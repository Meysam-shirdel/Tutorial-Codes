{
  "nbformat": 4,
  "nbformat_minor": 0,
  "metadata": {
    "colab": {
      "provenance": []
    },
    "kernelspec": {
      "name": "python3",
      "display_name": "Python 3"
    },
    "language_info": {
      "name": "python"
    }
  },
  "cells": [
    {
      "cell_type": "code",
      "execution_count": null,
      "metadata": {
        "id": "N2u8HI7V8uad"
      },
      "outputs": [],
      "source": [
        "!pip install mord\n",
        "!pip install pydantic-settings\n",
        "!pip install eli5"
      ]
    },
    {
      "cell_type": "code",
      "source": [
        "import numpy as np\n",
        "import pandas as pd\n",
        "import matplotlib.pyplot as plt\n",
        "import seaborn as sns\n",
        "color = sns.color_palette()\n",
        "sns.set_style('darkgrid')\n",
        "from scipy import stats\n",
        "from scipy.stats import norm, skew #for some statistics\n",
        "from sklearn.metrics import explained_variance_score, mean_absolute_error, mean_squared_error, mean_squared_log_error, median_absolute_error, r2_score\n",
        "from sklearn.model_selection import train_test_split\n",
        "from sklearn import tree\n",
        "from sklearn.ensemble import RandomForestClassifier\n",
        "# Load libraries\n",
        "from sklearn.datasets import load_iris\n",
        "from sklearn.feature_selection import SelectKBest\n",
        "from sklearn.feature_selection import f_classif\n",
        "from sklearn.impute import KNNImputer\n",
        "import numpy as np\n",
        "import matplotlib.pyplot as plt\n",
        "import missingno as msno\n",
        "from sklearn.ensemble import RandomForestClassifier\n",
        "from sklearn.feature_selection import SelectFromModel\n",
        "import eli5\n",
        "from eli5.sklearn import PermutationImportance\n",
        "from sklearn.preprocessing import StandardScaler\n",
        "from sklearn.impute import SimpleImputer\n",
        "from sklearn.preprocessing import LabelEncoder\n",
        "from sklearn.preprocessing import label_binarize\n",
        "from sklearn.preprocessing import OneHotEncoder\n",
        "from sklearn.datasets import make_regression\n",
        "from sklearn.feature_selection import SelectKBest\n",
        "from sklearn.feature_selection import f_regression\n",
        "from sklearn import preprocessing, linear_model\n",
        "from sklearn.model_selection import KFold , GridSearchCV\n",
        "from sklearn.model_selection import cross_val_score\n",
        "from sklearn.model_selection import cross_val_predict\n",
        "from sklearn.ensemble import RandomForestClassifier\n",
        "from sklearn.feature_selection import SelectFromModel\n",
        "from sklearn.model_selection import train_test_split\n",
        "from sklearn.decomposition import PCA\n",
        "from sklearn.linear_model import LogisticRegression\n",
        "from sklearn.multiclass import OneVsRestClassifier\n",
        "from sklearn.metrics import accuracy_score, classification_report, confusion_matrix\n",
        "from sklearn.metrics import roc_curve, auc\n",
        "from sklearn.base import BaseEstimator\n",
        "from statsmodels.miscmodels.ordinal_model import OrderedModel\n",
        "from mord import LogisticIT"
      ],
      "metadata": {
        "id": "QSjzEEes8wSt"
      },
      "execution_count": null,
      "outputs": []
    },
    {
      "cell_type": "markdown",
      "source": [
        "# **Load Dataset**"
      ],
      "metadata": {
        "id": "NfZd-2Gu1YYM"
      }
    },
    {
      "cell_type": "markdown",
      "source": [
        "# New Section"
      ],
      "metadata": {
        "id": "8OeiBaoQzDGs"
      }
    },
    {
      "cell_type": "code",
      "source": [
        "data=pd.read_csv(\"/content/NY23.csv\")"
      ],
      "metadata": {
        "colab": {
          "base_uri": "https://localhost:8080/"
        },
        "id": "d3nb4Na282pc",
        "outputId": "796b78aa-2a48-4e7d-c349-3f03f68e81fb"
      },
      "execution_count": null,
      "outputs": [
        {
          "output_type": "stream",
          "name": "stderr",
          "text": [
            "<ipython-input-38-e4deddc11271>:1: DtypeWarning: Columns (36,38,39,71,73,96,107,108) have mixed types. Specify dtype option on import or set low_memory=False.\n",
            "  data=pd.read_csv(\"/content/NY23.csv\")\n"
          ]
        }
      ]
    },
    {
      "cell_type": "markdown",
      "source": [
        "# -----------------------------------------------------------------------------------\n",
        "\n"
      ],
      "metadata": {
        "id": "2Wh7EH2p1tlx"
      }
    },
    {
      "cell_type": "markdown",
      "source": [
        "# **Preprocessing**"
      ],
      "metadata": {
        "id": "i-jyXG5I1e77"
      }
    },
    {
      "cell_type": "markdown",
      "source": [
        "*   **Remove null features**\n"
      ],
      "metadata": {
        "id": "HoSYqbLM3Bec"
      }
    },
    {
      "cell_type": "code",
      "source": [
        "null_col = data.columns[(data.isnull().sum()/ data.shape[0])>0.75]\n",
        "data2 = data.drop(null_col,axis=1)"
      ],
      "metadata": {
        "id": "ZPVtszHo-7MC"
      },
      "execution_count": null,
      "outputs": []
    },
    {
      "cell_type": "markdown",
      "source": [
        "* **Fill missing values**\n"
      ],
      "metadata": {
        "id": "Os22RPQDrmEN"
      }
    },
    {
      "cell_type": "code",
      "source": [
        "counts, edges, bars =plt.hist(data2['CULVERT_COND_062'],bins=9)\n",
        "d3 = data2[data2['CULVERT_COND_062']=='N'].index\n",
        "randidx = d3[np.random.randint(0,d3.shape[0],400)]\n",
        "\n"
      ],
      "metadata": {
        "colab": {
          "base_uri": "https://localhost:8080/",
          "height": 430
        },
        "id": "5kyzSc2lqi70",
        "outputId": "93e674f0-886c-47a5-b8e1-49ad73f911b2"
      },
      "execution_count": null,
      "outputs": [
        {
          "output_type": "display_data",
          "data": {
            "text/plain": [
              "<Figure size 640x480 with 1 Axes>"
            ],
            "image/png": "[encoded data removed]"
          },
          "metadata": {}
        }
      ]
    },
    {
      "cell_type": "code",
      "source": [
        "print(data['BRIDGE_CONDITION'].unique())\n",
        "print(data['DECK_COND_058'].unique())\n",
        "print(data['SUPERSTRUCTURE_COND_059'].unique())\n",
        "print(data['SUBSTRUCTURE_COND_060'].unique())\n",
        "#data[['BRIDGE_CONDITION','DECK_COND_058','SUPERSTRUCTURE_COND_059','SUBSTRUCTURE_COND_060'] ]"
      ],
      "metadata": {
        "colab": {
          "base_uri": "https://localhost:8080/"
        },
        "id": "qOmJAJbL4DfL",
        "outputId": "675b1804-15ad-41cc-df9d-ea7e8b06523d"
      },
      "execution_count": null,
      "outputs": [
        {
          "output_type": "stream",
          "name": "stdout",
          "text": [
            "['F' 'P' 'G']\n",
            "['N' '6' '9' '5' '7' '8' '4' '3' '2' '1' '0']\n",
            "['5' '6' '4' '7' '9' 'N' '8' '3' '2' '1' '0']\n",
            "['5' '6' '9' '7' '8' 'N' '4' '3' '2' '1' '0']\n"
          ]
        }
      ]
    },
    {
      "cell_type": "code",
      "source": [
        "#ww= data[data['DECK_COND_058']=='5'].value_counts()\n",
        "data['DECK_COND_058'].value_counts()"
      ],
      "metadata": {
        "colab": {
          "base_uri": "https://localhost:8080/"
        },
        "id": "D58bLOmSprj3",
        "outputId": "fe00435c-4fa7-442c-fd5b-fa942ddc2060"
      },
      "execution_count": null,
      "outputs": [
        {
          "output_type": "execute_result",
          "data": {
            "text/plain": [
              "7    4421\n",
              "6    3861\n",
              "N    2818\n",
              "5    2308\n",
              "8    2293\n",
              "9    1328\n",
              "4     504\n",
              "3      35\n",
              "2       3\n",
              "1       1\n",
              "0       1\n",
              "Name: DECK_COND_058, dtype: int64"
            ]
          },
          "metadata": {},
          "execution_count": 107
        }
      ]
    },
    {
      "cell_type": "code",
      "source": [
        "data2.info()"
      ],
      "metadata": {
        "colab": {
          "base_uri": "https://localhost:8080/"
        },
        "id": "-Ksqh22j3tJj",
        "outputId": "85ee879e-b0ee-466a-d8e3-b3943cfbf5b2"
      },
      "execution_count": null,
      "outputs": [
        {
          "output_type": "stream",
          "name": "stdout",
          "text": [
            "<class 'pandas.core.frame.DataFrame'>\n",
            "RangeIndex: 17573 entries, 0 to 17572\n",
            "Columns: 113 entries, STATE_CODE_001 to DECK_AREA\n",
            "dtypes: float64(27), int64(47), object(39)\n",
            "memory usage: 15.2+ MB\n"
          ]
        }
      ]
    },
    {
      "cell_type": "code",
      "source": [
        "import numpy as np\n",
        "from sklearn.datasets import make_classification\n",
        "from sklearn.model_selection import train_test_split\n",
        "from sklearn.preprocessing import StandardScaler\n",
        "from sklearn.linear_model import LogisticRegression\n",
        "from sklearn.multioutput import MultiOutputRegressor,MultiOutputClassifier\n",
        "from sklearn.metrics import accuracy_score\n",
        "\n"
      ],
      "metadata": {
        "id": "ElM0n2HChqAm"
      },
      "execution_count": null,
      "outputs": []
    },
    {
      "cell_type": "code",
      "source": [
        "# Generate synthetic data with three ordinal output variables\n",
        "X, y = make_classification(n_samples=1000, n_features=20, n_informative=10, n_classes=9, n_clusters_per_class=1, random_state=42)\n",
        "y= np.concatenate((np.reshape(y,(-1,1)),np.reshape(y,(-1,1))),axis=1)\n",
        "# Split the data into training and testing sets\n",
        "X_train, X_test, y_train, y_test = train_test_split(X, y, test_size=0.2, random_state=42)\n",
        "\n",
        "# Standardize features\n",
        "scaler = StandardScaler()\n",
        "X_train = scaler.fit_transform(X_train)\n",
        "X_test = scaler.transform(X_test)\n",
        "\n"
      ],
      "metadata": {
        "id": "bdZFljiihsia"
      },
      "execution_count": null,
      "outputs": []
    },
    {
      "cell_type": "code",
      "source": [
        "# Create and train an ordinal logistic regression model\n",
        "ordinal_model = MultiOutputRegressor(LogisticRegression(solver='lbfgs', multi_class='multinomial'))\n",
        "ordinal_model.fit(X_train, y_train)\n",
        "\n",
        "# Make predictions on the test set\n",
        "y_pred = ordinal_model.predict(X_test)\n",
        "\n",
        "accuracy = ordinal_model.score(X_test,y_test)\n",
        "# Evaluate the accuracy\n",
        "#accuracy = accuracy_score(y_test, y_pred)\n",
        "print(f\"Accuracy: {accuracy:.2f}\")"
      ],
      "metadata": {
        "colab": {
          "base_uri": "https://localhost:8080/"
        },
        "id": "S3ElPrqJhvYS",
        "outputId": "4a93b5c2-a142-4d9e-b88e-9749edc83847"
      },
      "execution_count": null,
      "outputs": [
        {
          "output_type": "stream",
          "name": "stdout",
          "text": [
            "Accuracy: -0.06\n"
          ]
        }
      ]
    },
    {
      "cell_type": "code",
      "source": [
        "import numpy as np\n",
        "\n",
        "rng = np.random.RandomState(0)\n",
        "data = np.linspace(0, 30, num=1_000).reshape(-1, 1)\n",
        "target = np.sin(data).ravel()"
      ],
      "metadata": {
        "id": "mRE1fvQ_6hmW"
      },
      "execution_count": null,
      "outputs": []
    },
    {
      "cell_type": "code",
      "source": [
        "inputs = np.random.random((32, 10, 8))\n",
        "simple_rnn = keras.layers.SimpleRNN(4)\n",
        "output = simple_rnn(inputs)  # The output has shape `(32, 4)`.\n",
        "simple_rnn = keras.layers.SimpleRNN(\n",
        "    4, return_sequences=True, return_state=True\n",
        ")\n",
        "# whole_sequence_output has shape `(32, 10, 4)`.\n",
        "# final_state has shape `(32, 4)`.\n",
        "whole_sequence_output, final_state = simple_rnn(inputs)"
      ],
      "metadata": {
        "id": "R712tWLeAoSf"
      },
      "execution_count": null,
      "outputs": []
    },
    {
      "cell_type": "code",
      "source": [
        "import numpy as np\n",
        "x = np.array([1, 2, 3,4,5,6,7,8,9])\n",
        "# Reshape the input to the required sample_size x time_steps x features\n",
        "Y_ind = np.arange(2, len(x), 2)\n",
        "Y = x[Y_ind]\n",
        "Y"
      ],
      "metadata": {
        "colab": {
          "base_uri": "https://localhost:8080/"
        },
        "id": "qXg6WmZMENTM",
        "outputId": "46e00e57-60d2-4bf9-f002-aa950641b2d4"
      },
      "execution_count": null,
      "outputs": [
        {
          "output_type": "execute_result",
          "data": {
            "text/plain": [
              "array([3, 5, 7, 9])"
            ]
          },
          "metadata": {},
          "execution_count": 10
        }
      ]
    },
    {
      "cell_type": "code",
      "source": [
        "rows_x = len(Y)\n",
        "X = x[range(2*rows_x)]\n",
        "X = np.reshape(X, (rows_x, 2, 1))\n",
        "X"
      ],
      "metadata": {
        "id": "UF7ZcWjlKxZW"
      },
      "execution_count": null,
      "outputs": []
    },
    {
      "cell_type": "code",
      "source": [
        "from pandas import read_csv\n",
        "import numpy as np\n",
        "from keras.models import Sequential\n",
        "from keras.layers import Dense, SimpleRNN\n",
        "from sklearn.preprocessing import MinMaxScaler\n",
        "from sklearn.metrics import mean_squared_error\n",
        "import math\n",
        "import matplotlib.pyplot as plt"
      ],
      "metadata": {
        "id": "_-N5m6tcY5HL"
      },
      "execution_count": 1,
      "outputs": []
    },
    {
      "cell_type": "code",
      "source": [
        "def create_RNN(hidden_units, dense_units, input_shape, activation):\n",
        "    model = Sequential()\n",
        "    model.add(SimpleRNN(hidden_units, input_shape=input_shape,\n",
        "                        activation=activation[0]))\n",
        "    model.add(Dense(units=dense_units, activation=activation[1]))\n",
        "    model.compile(loss='mean_squared_error', optimizer='adam')\n",
        "    return model\n",
        "\n",
        "demo_model = create_RNN(2, 1, (99,1), activation=['linear', 'linear'])\n"
      ],
      "metadata": {
        "id": "VWYTdwzCZ1Nj"
      },
      "execution_count": null,
      "outputs": []
    },
    {
      "cell_type": "code",
      "source": [
        "demo_model.summary()"
      ],
      "metadata": {
        "id": "Nb4zNge6jmnl"
      },
      "execution_count": null,
      "outputs": []
    },
    {
      "cell_type": "code",
      "source": [
        "wx = demo_model.get_weights()[0]\n",
        "wh = demo_model.get_weights()[1]\n",
        "bh = demo_model.get_weights()[2]\n",
        "wy = demo_model.get_weights()[3]\n",
        "by = demo_model.get_weights()[4]\n",
        "\n",
        "print('wx = ', wx, ' wh = ', wh, ' bh = ', bh, ' wy =', wy, 'by = ', by)"
      ],
      "metadata": {
        "id": "MFFCkgEZaC05",
        "colab": {
          "base_uri": "https://localhost:8080/"
        },
        "outputId": "6547dcb0-605d-4e63-aaf6-374a66e680f0"
      },
      "execution_count": null,
      "outputs": [
        {
          "output_type": "stream",
          "name": "stdout",
          "text": [
            "wx =  [[0.42764962 1.1413797 ]]  wh =  [[ 0.5333096   0.84592015]\n",
            " [ 0.84592015 -0.5333096 ]]  bh =  [0. 0.]  wy = [[-0.9776005]\n",
            " [ 0.9958323]] by =  [0.]\n"
          ]
        }
      ]
    },
    {
      "cell_type": "code",
      "source": [
        "#x = np.array([1, 2, 3, 4, 5])\n",
        "x = np.arange(1,100,1)\n",
        "# Reshape the input to the required sample_size x time_steps x features\n",
        "x_input = np.reshape(x,(1, 99, 1))\n",
        "y_pred_model = demo_model.predict(x_input)\n",
        "\n",
        "\n",
        "\"\"\"m = 2\n",
        "h0 = np.zeros(m)\n",
        "print(\"h0\",h0,h0.shape)\n",
        "h1 = np.dot(x[0], wx) + h0 + bh\n",
        "print(\"h1\",h1,h1.shape)\n",
        "h2 = np.dot(x[1], wx) + np.dot(h1,wh) + bh\n",
        "print(\"h2\",h2,h2.shape)\n",
        "h3 = np.dot(x[2], wx) + np.dot(h2,wh) + bh\n",
        "print(\"h3\",h3,h3.shape)\n",
        "h4 = np.dot(x[3], wx) + np.dot(h3,wh) + bh\n",
        "print(\"h4\",h4,h4.shape)\n",
        "h5 = np.dot(x[4], wx) + np.dot(h4,wh) + bh\n",
        "print(\"h5\",h5,h5.shape)\n",
        "o3 = np.dot(h5, wy) + by\n",
        "print(\"o3\",o3,o3.shape)\n",
        "\n",
        "print('h1 = ', h1,'h2 = ', h2,'h3 = ', h3)\"\"\"\n",
        "\n",
        "print(\"Prediction from network \", y_pred_model)\n",
        "#print(\"Prediction from our computation \", o3)\n"
      ],
      "metadata": {
        "colab": {
          "base_uri": "https://localhost:8080/"
        },
        "id": "tladu9ZjZnXQ",
        "outputId": "1843a1dd-6082-4b49-cf07-abd36ebaf0e2"
      },
      "execution_count": null,
      "outputs": [
        {
          "output_type": "stream",
          "name": "stdout",
          "text": [
            "1/1 [==============================] - 0s 146ms/step\n",
            "Prediction from network  [[-1664.9102]]\n"
          ]
        }
      ]
    },
    {
      "cell_type": "code",
      "source": [
        "# Parameter split_percent defines the ratio of training examples\n",
        "def get_train_test(url, split_percent=0.8):\n",
        "    df = read_csv(url, usecols=[1], engine='python')\n",
        "    data = np.array(df.values.astype('float32'))\n",
        "    scaler = MinMaxScaler(feature_range=(0, 1))\n",
        "    data = scaler.fit_transform(data).flatten()\n",
        "    n = len(data)\n",
        "    # Point for splitting data into train and test\n",
        "    split = int(n*split_percent)\n",
        "    train_data = data[range(split)]\n",
        "    test_data = data[split:]\n",
        "    return train_data, test_data, data\n",
        "\n",
        "import pandas as pd\n",
        "sunspots_url = 'https://raw.githubusercontent.com/jbrownlee/Datasets/master/monthly-sunspots.csv'\n",
        "train_data, test_data, data = get_train_test(sunspots_url)"
      ],
      "metadata": {
        "id": "_71fESgSr5JG"
      },
      "execution_count": null,
      "outputs": []
    },
    {
      "cell_type": "code",
      "source": [],
      "metadata": {
        "id": "CqlztRkzFBUY"
      },
      "execution_count": null,
      "outputs": []
    },
    {
      "cell_type": "code",
      "source": [
        "# Prepare the input X and target Y\n",
        "def get_XY(dat, time_steps):\n",
        "    # Indices of target array\n",
        "    Y_ind = np.arange(time_steps, len(dat), time_steps)\n",
        "    #print(Y_ind)\n",
        "    Y = dat[Y_ind]\n",
        "    #print(Y)\n",
        "    # Prepare X\n",
        "    rows_x = len(Y)\n",
        "    #print(rows_x)\n",
        "    X = dat[range(time_steps*rows_x)]\n",
        "    #print(X.shape)\n",
        "    X = np.reshape(X, (rows_x, time_steps, 1))\n",
        "    #print(X.shape)\n",
        "    return X, Y\n",
        "\n",
        "time_steps = 12\n",
        "trainX, trainY = get_XY(train_data, time_steps)\n",
        "testX, testY = get_XY(test_data, time_steps)\n",
        "#print(trainX)\n",
        "#print(trainY.shape)"
      ],
      "metadata": {
        "id": "tIA2ob9UDXTO"
      },
      "execution_count": null,
      "outputs": []
    },
    {
      "cell_type": "code",
      "source": [
        "model = create_RNN(hidden_units=3, dense_units=1, input_shape=(time_steps,1),\n",
        "                   activation=['tanh', 'tanh'])\n",
        "model.fit(trainX, trainY, epochs=20, batch_size=1, verbose=2)"
      ],
      "metadata": {
        "id": "S546l5WiEqpG"
      },
      "execution_count": null,
      "outputs": []
    },
    {
      "cell_type": "code",
      "source": [
        "def print_error(trainY, testY, train_predict, test_predict):\n",
        "    # Error of predictions\n",
        "    train_rmse = math.sqrt(mean_squared_error(trainY, train_predict))\n",
        "    test_rmse = math.sqrt(mean_squared_error(testY, test_predict))\n",
        "    # Print RMSE\n",
        "    print('Train RMSE: %.3f RMSE' % (train_rmse))\n",
        "    print('Test RMSE: %.3f RMSE' % (test_rmse))\n",
        "\n",
        "# make predictions\n",
        "train_predict = model.predict(trainX)\n",
        "test_predict = model.predict(testX)\n",
        "# Mean square error\n",
        "print_error(trainY, testY, train_predict, test_predict)"
      ],
      "metadata": {
        "colab": {
          "base_uri": "https://localhost:8080/"
        },
        "id": "uZICPbV9Ez43",
        "outputId": "a6fdce0a-7277-49fa-feda-d25969bb17f6"
      },
      "execution_count": null,
      "outputs": [
        {
          "output_type": "stream",
          "name": "stdout",
          "text": [
            "6/6 [==============================] - 0s 3ms/step\n",
            "2/2 [==============================] - 0s 7ms/step\n",
            "Train RMSE: 0.059 RMSE\n",
            "Test RMSE: 0.084 RMSE\n"
          ]
        }
      ]
    },
    {
      "cell_type": "code",
      "source": [
        "[test_predict, testY]"
      ],
      "metadata": {
        "id": "j_ABcQStJ_tH"
      },
      "execution_count": null,
      "outputs": []
    },
    {
      "cell_type": "code",
      "source": [
        "np.random.randint(0, 1000)"
      ],
      "metadata": {
        "id": "Pf0Cx8-xBGbk"
      },
      "execution_count": null,
      "outputs": []
    },
    {
      "cell_type": "code",
      "source": [
        "\n",
        "import numpy as np\n",
        "import matplotlib.pyplot as plt\n",
        "from sklearn.datasets import make_biclusters, make_blobs\n",
        "from sklearn import model_selection\n",
        "\n",
        "minxc1 = 2\n",
        "maxxc1 = 5\n",
        "minxc2 = 4\n",
        "maxxc2 = 1\n",
        "\n",
        "c1 = np.array(np.random.standard_normal((100,2)))+(minxc1,maxxc1)\n",
        "c2 = np.array(np.random.standard_normal((100,2)))+(minxc2,maxxc2)\n",
        "yc1 = np.ones((100,1), dtype=np.int32)\n",
        "yc2 = np.zeros((100,1),dtype=np.int32)\n",
        "Y = np.concatenate((yc1,yc2),axis=0)\n",
        "X = np.concatenate((c1,c2),axis=0)\n",
        "xtrain, xtest ,ytrain, ytest = model_selection.train_test_split(X,Y,test_size=0.1)\n",
        "plt.plot(c1[:,0], c1[:,1], 'b.')\n",
        "plt.plot(c2[:,0], c2[:,1], 'r.')\n",
        "\n",
        "def hardlim(z ):\n",
        "  if z <0:\n",
        "    return 0\n",
        "  else:\n",
        "    return 1\n",
        "\n",
        "def trainw(w , x ,y,b, alpha = 0.01):\n",
        "  prediction = hardlim(x.dot(w.T)+b)\n",
        "  #print(prediction)\n",
        "  error = (y - prediction )\n",
        "  #print(error)\n",
        "  if error!=0 :\n",
        "    w = w + alpha *(error * x)\n",
        "    b = b + error\n",
        "\n",
        "  return w,b\n",
        "\n",
        "weights = np.random.rand(1,2)\n",
        "\n",
        "line = np.arange(np.min([minxc1,minxc2], axis=0)-2, np.max([maxxc1, maxxc2],axis=0)+2)\n",
        "fig, ax = plt.subplots()\n",
        "slop = weights[0,1]/ weights[0,0]\n",
        "b =0.5\n",
        "ax.plot(line ,slop*line,'b', linewidth=3 ,label=\"initial\")\n",
        "for i in range (len(xtrain)):\n",
        "  (weights,b ) =trainw(weights , xtrain[i,:], ytrain[i,0],b )\n",
        "  #print(b)\n",
        "  slop = weights[0,1]+0.1/ weights[0,0]\n",
        "  plt.plot(line ,(slop*line)+b,'g', linewidth=0.5 )\n",
        "\n",
        "plt.plot(c1[:,0], c1[:,1], 'b.')\n",
        "plt.plot(c2[:,0], c2[:,1], 'r.')\n",
        "plt.plot(line, (slop*line)+b,'r--', linewidth=4,label=\"Final\")\n",
        "print(b)\n",
        "plt.legend()\n",
        "plt.grid()"
      ],
      "metadata": {
        "colab": {
          "base_uri": "https://localhost:8080/",
          "height": 860
        },
        "id": "58jwrF5JcAkZ",
        "outputId": "df82363d-c6d8-4de5-f24e-fa028d2a52a9"
      },
      "execution_count": 1,
      "outputs": [
        {
          "output_type": "stream",
          "name": "stdout",
          "text": [
            "-2.5\n"
          ]
        },
        {
          "output_type": "display_data",
          "data": {
            "text/plain": [
              "<Figure size 640x480 with 1 Axes>"
            ],
            "image/png": "[encoded data removed]"
          },
          "metadata": {}
        },
        {
          "output_type": "display_data",
          "data": {
            "text/plain": [
              "<Figure size 640x480 with 1 Axes>"
            ],
            "image/png": "[encoded data removed]"
          },
          "metadata": {}
        }
      ]
    }
  ]
}