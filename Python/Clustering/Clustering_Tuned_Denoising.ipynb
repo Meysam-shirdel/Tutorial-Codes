{
  "nbformat": 4,
  "nbformat_minor": 0,
  "metadata": {
    "colab": {
      "provenance": []
    },
    "kernelspec": {
      "name": "python3",
      "display_name": "Python 3"
    },
    "language_info": {
      "name": "python"
    }
  },
  "cells": [
    {
      "cell_type": "code",
      "execution_count": 1,
      "metadata": {
        "id": "E0khFptUzubX"
      },
      "outputs": [],
      "source": [
        "import numpy as np\n",
        "import pandas as pd\n",
        "import matplotlib.pyplot as plt\n",
        "import matplotlib.text as plttext\n",
        "from mpl_toolkits.mplot3d import Axes3D\n",
        "import matplotlib.colors as mc\n",
        "from scipy.spatial import distance\n",
        "from sklearn import datasets\n",
        "from sklearn import metrics\n",
        "from sklearn.preprocessing import minmax_scale,StandardScaler\n",
        "\n",
        "import statistics as statics\n",
        "import seaborn as sns\n",
        "\n",
        "import time"
      ]
    },
    {
      "cell_type": "code",
      "source": [
        "#data = np.array(pd.read_excel('pathbased.xlsx'))\n",
        "data = np.array(pd.read_csv('checkboard.csv'))\n",
        "#data =np.vstack([data,np.array([[0,-2.7],[-1,-1.1],[-2.5,1],[0,0.5],[2.5,-2.5],[-1,2.4],[2.5,3]])])\n",
        "data = np.unique(data,axis=0)\n",
        "databackup = data\n",
        "data = minmax_scale(data[:,0:2])\n",
        "plt.plot(data[:, 0], data[:, 1], 'b.')\n",
        "N = len(data)"
      ],
      "metadata": {
        "id": "1uqoge1Szz3P"
      },
      "execution_count": null,
      "outputs": []
    },
    {
      "cell_type": "code",
      "source": [
        "def mycluster (noise_threshold=1, use_center=False, denoise=False, text='' ):\n",
        "  start_time = time.time()\n",
        "\n",
        "  dist_matrix = distance.cdist(data, data, 'euclidean')\n",
        "  for ii in range(N):\n",
        "    dist_matrix[ii, ii] = np.inf\n",
        "  min1 = dist_matrix.min(axis=1)\n",
        "  meandist = np.mean(min1)\n",
        "  std = np.std(min1)\n",
        "  gridlength = min1.min(axis=0)\n",
        "\n",
        "  if(denoise==True):\n",
        "    z = (min1 - meandist)/std\n",
        "    argoutliers = np.argwhere(z>3)\n",
        "    finalnoises = argoutliers\n",
        "    min1 = np.delete(min1,argoutliers, axis=0)\n",
        "\n",
        "  maxmin = min1.max(axis=0)\n",
        "  noiseradius = np.math.ceil((maxmin / gridlength)/2)\n",
        "\n",
        "#noise_threshold = 85\n",
        "  cluster_number = np.zeros((N, 1))\n",
        "  added_to_neighbor = np.zeros((N,1))\n",
        "\n",
        "  noise = []\n",
        "  non_noise = []\n",
        "  biglist = []\n",
        "  for i in range(N):\n",
        "    bli = np.argwhere((dist_matrix[i] / gridlength)/2 < noiseradius)\n",
        "    if len(bli)< noise_threshold:\n",
        "      noise.append(i)\n",
        "      cluster_number[i] = -1\n",
        "    else:\n",
        "      non_noise.append(i)\n",
        "\n",
        "    biglist.append( bli)\n",
        "\n",
        "  noise = np.reshape(noise, (len(noise), 1))\n",
        "  if len(noise)>0:\n",
        "    noise_data = data[noise]\n",
        "    noise_data = noise_data.reshape(len(noise_data),data.shape[1])\n",
        "    non_noise_data =  data[non_noise] # np.delete(data, noise, axis=0)\n",
        "  else:\n",
        "    non_noise_data = data\n",
        "\n",
        "\n",
        "#--------------------------------------------\n",
        "  num_not_clustered = len(non_noise_data)\n",
        "  non_noise_backup = non_noise\n",
        "  index = np.random.randint(0, len(data))\n",
        "  neighborlist = []\n",
        "  clusters = [-1]\n",
        "  current_cluster = 0\n",
        "\n",
        "\n",
        "  while num_not_clustered > 0:\n",
        "    current_cluster += 1\n",
        "    gg = 0\n",
        "    while cluster_number[index] in clusters:\n",
        "      index = np.random.randint(0, len(data))\n",
        "\n",
        "    clusters.append(current_cluster)\n",
        "    neighborlist.append(index)\n",
        "    cluster = []\n",
        "    while len(neighborlist) > 0:\n",
        "      index = neighborlist.pop(0)\n",
        "      cluster_number[index] = current_cluster\n",
        "      num_not_clustered -= 1\n",
        "      #lstn = biglist[index] #np.argwhere(((dist_matrix[index,:] / gridlength)/2) < noiseradius)\n",
        "\n",
        "      for j in range(len(biglist[index])):\n",
        "        if cluster_number[biglist[index][j]] == 0:\n",
        "          cluster_number[biglist[index][j]] = current_cluster\n",
        "          if added_to_neighbor[biglist[index][j]]== 0:\n",
        "            neighborlist.append(np.int(biglist[index][j,0]))\n",
        "            added_to_neighbor[biglist[index][j]]= 1\n",
        "\n",
        "\n",
        "  clusters.pop(0)\n",
        "\n",
        "  if len(clusters) > 6:\n",
        "    colors = np.zeros((len(clusters),3))\n",
        "    for co in range(len(clusters)):\n",
        "      colors[co] = np.random.rand(1,3)\n",
        "  else:\n",
        "    colors = ['green','magenta','cyan','blue','yellow','black']\n",
        "\n",
        "  st = plttext.Text()\n",
        "  cluster_centers = np.zeros((len(clusters),2))\n",
        "\n",
        "  for i in range(len(clusters)):\n",
        "    X = data[np.where(cluster_number == i+1)[0], 0]\n",
        "    Y = data[np.where(cluster_number == i+1)[0], 1]\n",
        "    cluster_centers[i,0] = statics.mean(X)\n",
        "    cluster_centers[i,1] = statics.mean(Y)\n",
        "\n",
        "  if use_center == True:\n",
        "    for k  in range(len(noise)):\n",
        "      dist_from_center =distance.cdist(data[noise[k]][0].reshape(1,len(data[noise[k]][0])), cluster_centers, 'euclidean')\n",
        "      sortedneighbor = np.argmin(dist_from_center[0,:])\n",
        "      cluster_number[noise[k]] = sortedneighbor+1\n",
        "\n",
        "  else:\n",
        "    for k  in range(len(cluster_number)):\n",
        "      if cluster_number[k] == -1:\n",
        "        sortedneighbor = np.argsort(dist_matrix[k,:])\n",
        "        m = 0\n",
        "        while  cluster_number[sortedneighbor[m]] ==-1:\n",
        "          m += 1\n",
        "\n",
        "        cluster_number[k] = cluster_number[sortedneighbor[m]]\n",
        "    '''for k  in range(len(cluster_number)):\n",
        "      if cluster_number[k] == -1:\n",
        "        sortedneighbor = np.argsort(np.where(cluster_number[biglist[k][:]]!=-1))\n",
        "        m = 0\n",
        "        while  cluster_number[sortedneighbor[m]] ==-1:\n",
        "          m += 1\n",
        "\n",
        "        cluster_number[k] = cluster_number[sortedneighbor[m]]'''\n",
        "\n",
        "\n",
        "  end_time = time.time()\n",
        "\n",
        "  '''newdata = np.concatenate((data, cluster_number), axis=1)\n",
        "  np.savetxt('checkboardnewdata.csv', newdata, delimiter=',')\n",
        "  np.savetxt('cluster_number.csv',cluster_number, delimiter=',')'''\n",
        "\n",
        "  #Silhouette Score\n",
        "  for ii in range(N):\n",
        "    dist_matrix[ii, ii] = 0\n",
        "\n",
        "  '''sil = metrics.silhouette_score(data, cluster_number,metric='euclidean' )\n",
        "  print(sil)\n",
        "  calinski = metrics.calinski_harabasz_score(data, cluster_number)\n",
        "  print(calinski)\n",
        "  david = metrics.davies_bouldin_score(data, cluster_number)\n",
        "  print(david)'''\n",
        "\n",
        "  #RAND Index\n",
        "  '''randindex = metrics.adjusted_rand_score((np.reshape(databackup[:,2],(1,len(databackup)))[0]), (np.reshape(cluster_number,(1,len(cluster_number))))[0])\n",
        "  print(randindex)\n",
        "  mutualinfo = metrics.adjusted_mutual_info_score((np.reshape(databackup[:,2],(1,len(databackup)))[0]), (np.reshape(cluster_number,(1,len(cluster_number))))[0])\n",
        "  print(mutualinfo)\n",
        "  homogeneity = metrics.homogeneity_score((np.reshape(databackup[:,2],(1,len(databackup)))[0]), (np.reshape(cluster_number,(1,len(cluster_number))))[0])\n",
        "  print(homogeneity)\n",
        "  fowlkes_mallows = metrics.fowlkes_mallows_score((np.reshape(databackup[:,2],(1,len(databackup)))[0]), (np.reshape(cluster_number,(1,len(cluster_number))))[0])\n",
        "  print(fowlkes_mallows)'''\n",
        "\n",
        "  if denoise==True:\n",
        "    plt.plot(data[finalnoises[:,0],0],data[finalnoises[:,0],1],'r*',markersize=\"8\")\n",
        "    plt.legend([\"Outliers\"])\n",
        "    datadenoised = np.delete(data,finalnoises, axis=0)\n",
        "    clusternumberdenoised = np.delete(cluster_number,finalnoises,axis=0)\n",
        "\n",
        "  for i in range(len(clusters)):\n",
        "    if denoise==True:\n",
        "      X = datadenoised[np.where(clusternumberdenoised == i+1)[0], 0]\n",
        "      Y = datadenoised[np.where(clusternumberdenoised == i+1)[0], 1]\n",
        "      #Z = datadenoised[np.where(clusternumberdenoised == i+1)[0], 2]\n",
        "    else:\n",
        "      X = data[np.where(cluster_number == i+1)[0], 0]\n",
        "      Y = data[np.where(cluster_number == i+1)[0], 1]\n",
        "      #Z = data[np.where(cluster_number == i+1)[0], 2]\n",
        "    plt.plot(X, Y, marker='.', linestyle='', color=colors[i], markersize=5 )\n",
        "    #plt.plot(cluster_centers[i,0], cluster_centers[i,1],marker=str(i), markersize=10, color='black')\n",
        "    plt.text(cluster_centers[i,0], cluster_centers[i,1],str(i+1), color='red',ha=\"center\", va=\"center\",fontsize=12,fontweight='bold')\n",
        "\n",
        "  plt.title(text)\n",
        "  #plt.text(-0.5, 0.7, 'Clustering took {:.2f} s'.format(end_time - start_time), fontsize=14)\n",
        "  print(end_time - start_time)\n",
        "\n"
      ],
      "metadata": {
        "id": "sgMrcRszAKPp"
      },
      "execution_count": 19,
      "outputs": []
    },
    {
      "cell_type": "code",
      "source": [
        "mycluster(noise_threshold= 50, use_center= True, denoise=True, text='Concentration Coefficients= 1, use_center= True')\n"
      ],
      "metadata": {
        "id": "jfdHNFfPz9KZ",
        "colab": {
          "base_uri": "https://localhost:8080/",
          "height": 541
        },
        "outputId": "ada83be4-3d63-441f-80e7-e1948e5930e4"
      },
      "execution_count": 24,
      "outputs": [
        {
          "output_type": "stream",
          "name": "stderr",
          "text": [
            "<ipython-input-19-edc3a5a718ab>:75: DeprecationWarning: `np.int` is a deprecated alias for the builtin `int`. To silence this warning, use `int` by itself. Doing this will not modify any behavior and is safe. When replacing `np.int`, you may wish to use e.g. `np.int64` or `np.int32` to specify the precision. If you wish to review your current use, check the release note link for additional information.\n",
            "Deprecated in NumPy 1.20; for more details and guidance: https://numpy.org/devdocs/release/1.20.0-notes.html#deprecations\n",
            "  neighborlist.append(np.int(biglist[index][j,0]))\n"
          ]
        },
        {
          "output_type": "stream",
          "name": "stdout",
          "text": [
            "0.3452293872833252\n"
          ]
        },
        {
          "output_type": "display_data",
          "data": {
            "text/plain": [
              "<Figure size 640x480 with 1 Axes>"
            ],
            "image/png": "[encoded data removed]"
          },
          "metadata": {}
        }
      ]
    },
    {
      "cell_type": "code",
      "source": [
        "start_time = time.time()\n",
        "\n",
        "dist_matrix = distance.cdist(data, data, 'euclidean')\n",
        "for ii in range(N):\n",
        "  dist_matrix[ii, ii] = np.inf\n",
        "min1 = dist_matrix.min(axis=1)\n",
        "gridlength = min1.min(axis=0)\n",
        "maxmin = min1.max(axis=0)\n",
        "noiseradius = np.math.ceil((maxmin / gridlength)/2)\n",
        "\n",
        "noise_threshold = 50\n",
        "cluster_number = np.zeros((N, 1))\n",
        "added_to_neighbor = np.zeros((N,1))\n",
        "\n",
        "noise = []\n",
        "non_noise = []\n",
        "biglist = []\n",
        "for i in range(N):\n",
        "  bli = np.argwhere((dist_matrix[i] / gridlength)/2 < noiseradius)\n",
        "  if len(bli)< noise_threshold:\n",
        "    noise.append(i)\n",
        "    cluster_number[i] = -1\n",
        "  else:\n",
        "    non_noise.append(i)\n",
        "\n",
        "  biglist.append( bli)\n",
        "\n",
        "noise = np.reshape(noise, (len(noise), 1))\n",
        "if len(noise)>0:\n",
        "  noise_data = data[noise]\n",
        "  noise_data = noise_data.reshape(len(noise_data),data.shape[1])\n",
        "  non_noise_data =  data[non_noise] # np.delete(data, noise, axis=0)\n",
        "else:\n",
        "  non_noise_data = data\n",
        "\n",
        "\n",
        "#--------------------------------------------\n",
        "num_not_clustered = len(non_noise_data)\n",
        "non_noise_backup = non_noise\n",
        "index = np.random.randint(0, len(data))\n",
        "neighborlist = []\n",
        "clusters = [-1]\n",
        "current_cluster = 0\n",
        "\n",
        "\n",
        "while num_not_clustered > 0:\n",
        "  current_cluster += 1\n",
        "  gg = 0\n",
        "  while cluster_number[index] in clusters:\n",
        "    index = np.random.randint(0, len(data))\n",
        "\n",
        "  clusters.append(current_cluster)\n",
        "  neighborlist.append(index)\n",
        "  cluster = []\n",
        "  while len(neighborlist) > 0:\n",
        "    index = neighborlist.pop(0)\n",
        "    cluster_number[index] = current_cluster\n",
        "    num_not_clustered -= 1\n",
        "    #lstn = biglist[index] #np.argwhere(((dist_matrix[index,:] / gridlength)/2) < noiseradius)\n",
        "\n",
        "    for j in range(len(biglist[index])):\n",
        "      if cluster_number[biglist[index][j]] == 0:\n",
        "        cluster_number[biglist[index][j]] = current_cluster\n",
        "        if added_to_neighbor[biglist[index][j]]== 0:\n",
        "          neighborlist.append(np.int(biglist[index][j,0]))\n",
        "          added_to_neighbor[biglist[index][j]]= 1\n",
        "\n",
        "\n",
        "\n",
        "\n",
        "clusters.pop(0)\n",
        "\n",
        "if len(clusters) > 6:\n",
        "  colors = np.zeros((len(clusters),3))\n",
        "  for co in range(len(clusters)):\n",
        "    colors[co] = np.random.rand(1,3)\n",
        "else:\n",
        "  colors = ['green','cyan','magenta','blue','yellow','black']\n",
        "\n",
        "st = plttext.Text()\n",
        "cluster_centers = np.zeros((len(clusters),2))\n",
        "\n",
        "\n",
        "for i in range(len(clusters)):\n",
        "  X = data[np.where(cluster_number == i+1)[0], 0]\n",
        "  Y = data[np.where(cluster_number == i+1)[0], 1]\n",
        "  cluster_centers[i,0] = statics.mean(X)\n",
        "  cluster_centers[i,1] = statics.mean(Y)\n",
        "\n",
        "\n",
        "for k  in range(len(cluster_number)):\n",
        "  if cluster_number[k] == -1:\n",
        "    dist_from_center =distance.cdist(data[k].reshape(1,len(data[k])), cluster_centers, 'euclidean')\n",
        "    sortedneighbor = np.argmin(dist_from_center[0,:])\n",
        "    cluster_number[k] = sortedneighbor+1\n",
        "\n",
        "'''wt = len(noise)\n",
        "while wt >0:\n",
        "  for k  in range(len(noise)):\n",
        "    sortedneighbor = (np.argsort(cluster_number[biglist[k][:]]!=-1))\n",
        "    if len(sortedneighbor[0]) > 0:\n",
        "      cluster_number[k] = cluster_number[sortedneighbor[0][0]]\n",
        "      wt = wt-1\n",
        "    #m = 0\n",
        "    #while  cluster_number[sortedneighbor[m]] ==-1:\n",
        "      #m += 1\n",
        "\n",
        "    #cluster_number[k] = cluster_number[sortedneighbor[m]]'''\n",
        "\n",
        "\n",
        "\n",
        "end_time = time.time()\n",
        "\n",
        "for i in range(len(clusters)):\n",
        "  X = data[np.where(cluster_number == i+1)[0], 0]\n",
        "  Y = data[np.where(cluster_number == i+1)[0], 1]\n",
        "  plt.plot(X, Y, marker='.', linestyle='', color=colors[i], markersize=5 )\n",
        "    #plt.plot(cluster_centers[i,0], cluster_centers[i,1],marker=str(i), markersize=10, color='black')\n",
        "  plt.text(cluster_centers[i,0], cluster_centers[i,1],str(i+1), color='red',ha=\"center\", va=\"center\",fontsize=12,fontweight='bold')\n",
        "\n",
        "\n",
        "plt.text(-0.5, 0.7, 'Clustering took {:.2f} s'.format(end_time - start_time), fontsize=14)"
      ],
      "metadata": {
        "colab": {
          "base_uri": "https://localhost:8080/",
          "height": 337
        },
        "id": "WKI_W---sKSo",
        "outputId": "224fe4b7-3305-44ae-9d24-af7333c865ca"
      },
      "execution_count": null,
      "outputs": [
        {
          "output_type": "stream",
          "name": "stderr",
          "text": [
            "/usr/local/lib/python3.7/dist-packages/ipykernel_launcher.py:65: DeprecationWarning: `np.int` is a deprecated alias for the builtin `int`. To silence this warning, use `int` by itself. Doing this will not modify any behavior and is safe. When replacing `np.int`, you may wish to use e.g. `np.int64` or `np.int32` to specify the precision. If you wish to review your current use, check the release note link for additional information.\n",
            "Deprecated in NumPy 1.20; for more details and guidance: https://numpy.org/devdocs/release/1.20.0-notes.html#deprecations\n"
          ]
        },
        {
          "output_type": "execute_result",
          "data": {
            "text/plain": [
              "Text(-0.5, 0.7, 'Clustering took 0.05 s')"
            ]
          },
          "metadata": {},
          "execution_count": 12
        },
        {
          "output_type": "display_data",
          "data": {
            "text/plain": [
              "<Figure size 432x288 with 1 Axes>"
            ],
            "image/png": "[encoded data removed]"
          },
          "metadata": {
            "needs_background": "light"
          }
        }
      ]
    },
    {
      "cell_type": "code",
      "source": [
        "dist_matrix"
      ],
      "metadata": {
        "id": "M0momVJ8uwse"
      },
      "execution_count": null,
      "outputs": []
    },
    {
      "cell_type": "code",
      "source": [
        "min1"
      ],
      "metadata": {
        "id": "x4RLeRCEurdv"
      },
      "execution_count": null,
      "outputs": []
    },
    {
      "cell_type": "code",
      "source": [
        "np.where(cluster_number[biglist[0][:]]==-1)"
      ],
      "metadata": {
        "id": "IRpez8yj-RmZ"
      },
      "execution_count": null,
      "outputs": []
    },
    {
      "cell_type": "code",
      "source": [
        "np.argsort(np.where(cluster_number[biglist[0][:]]==-1))"
      ],
      "metadata": {
        "id": "7s5G4bwg69l5"
      },
      "execution_count": null,
      "outputs": []
    },
    {
      "cell_type": "code",
      "source": [
        "'''if use_center == True :\n",
        "    for i in range(len(clusters)):\n",
        "      X = data[np.where(cluster_number == i+1)[0], 0]\n",
        "      Y = data[np.where(cluster_number == i+1)[0], 1]\n",
        "      cluster_centers[i,0] = statics.mean(X)\n",
        "      cluster_centers[i,1] = statics.mean(Y)\n",
        "    #plt.plot(X, Y, color=colors[i]  ,marker='.' ,linestyle='', markersize=5)\n",
        "    #plt.plot(X, Y, color=colors[i]  ,marker='.' ,linestyle='', markersize=5, label=\"C {}\".format(i+1))\n",
        "    #plt.plot(cluster_centers[i,0], cluster_centers[i,1],str(i), markersize=10, color='black')\n",
        "    #plt.text(cluster_centers[i,0], cluster_centers[i,1],str(i+1), color='red',ha=\"center\", va=\"center\",fontsize=12,fontweight='bold')\n",
        "\n",
        "    for k  in range(len(cluster_number)):\n",
        "      if cluster_number[k] == -1:\n",
        "        dist_from_center =distance.cdist(data[k].reshape(1,len(data[k])), cluster_centers, 'euclidean')\n",
        "        sortedneighbor = np.argmin(dist_from_center[0,:])\n",
        "        cluster_number[k] = sortedneighbor+1\n",
        "  else:\n",
        "    for k  in range(len(cluster_number)):\n",
        "      if cluster_number[k] == -1:\n",
        "        sortedneighbor = np.argsort(dist_matrix[k,:])\n",
        "        m = 0\n",
        "        while  cluster_number[sortedneighbor[m]] ==-1:\n",
        "          m += 1\n",
        "\n",
        "      cluster_number[k] = cluster_number[sortedneighbor[m]]'''"
      ],
      "metadata": {
        "id": "BdgJVpDNvYxD"
      },
      "execution_count": null,
      "outputs": []
    },
    {
      "cell_type": "code",
      "source": [
        "#Silhouette Score\n",
        "for ii in range(N):\n",
        "  dist_matrix[ii, ii] = 0\n",
        "\n",
        "sil = metrics.silhouette_score(dist_matrix, cluster_number,metric='euclidean', sample_size=None )\n",
        "print(sil)\n",
        "pp = metrics.silhouette_samples(dist_matrix, cluster_number,metric='euclidean')\n",
        "print(pp)"
      ],
      "metadata": {
        "id": "0vMoaQis0LHJ"
      },
      "execution_count": null,
      "outputs": []
    },
    {
      "cell_type": "code",
      "source": [
        "#Homogeneity score\n",
        "lbl = np.zeros(1500)\n",
        "pred = np.zeros(1500)\n",
        "for tt  in range(N):\n",
        "  lbl[tt] = np.math.floor((tt/500))+1\n",
        "  pred[tt] = cluster_number[tt,0]\n",
        "\n",
        "homo = metrics.homogeneity_score(lbl,pred)\n",
        "print(homo)\n",
        "del cluster_number,pred,lbl"
      ],
      "metadata": {
        "id": "oPDyCAw_aM1p"
      },
      "execution_count": null,
      "outputs": []
    },
    {
      "cell_type": "code",
      "source": [
        "from sklearn.metrics import davies_bouldin_score\n",
        "print(davies_bouldin_score(data, cluster_number))"
      ],
      "metadata": {
        "id": "Lh1vHoBNaNXw"
      },
      "execution_count": null,
      "outputs": []
    }
  ]
}